{
 "cells": [
  {
   "cell_type": "code",
   "execution_count": 5,
   "id": "b9a93505",
   "metadata": {},
   "outputs": [
    {
     "name": "stdout",
     "output_type": "stream",
     "text": [
      "This is my first notebook\n"
     ]
    }
   ],
   "source": [
    "print(\"This is my first notebook\")"
   ]
  },
  {
   "cell_type": "code",
   "execution_count": 6,
   "id": "1aed1b47",
   "metadata": {
    "scrolled": false
   },
   "outputs": [
    {
     "name": "stdout",
     "output_type": "stream",
     "text": [
      "1 4 7 10 13 16 "
     ]
    }
   ],
   "source": [
    "for i in range (1, 17, 3):\n",
    " print(i, end = \" \")\n",
    "     \n",
    "    "
   ]
  },
  {
   "cell_type": "code",
   "execution_count": 7,
   "id": "1e68f4d4",
   "metadata": {},
   "outputs": [
    {
     "name": "stdout",
     "output_type": "stream",
     "text": [
      "Hello Avinash, I am all yours\n"
     ]
    }
   ],
   "source": [
    "print(\"Hello Avinash, I am all yours\")"
   ]
  },
  {
   "cell_type": "code",
   "execution_count": 8,
   "id": "c5f039cf",
   "metadata": {},
   "outputs": [
    {
     "name": "stdout",
     "output_type": "stream",
     "text": [
      "Dummy\n"
     ]
    }
   ],
   "source": [
    "print(\"Dummy\")"
   ]
  },
  {
   "cell_type": "code",
   "execution_count": null,
   "id": "f2b8b0c9",
   "metadata": {},
   "outputs": [],
   "source": [
    "num = int(input())\n",
    "for num in range(num):\n",
    "    if num == 5:\n",
    "        break\n",
    "    else:\n",
    "        print(num)\n",
    "    print(num)\n"
   ]
  },
  {
   "cell_type": "code",
   "execution_count": null,
   "id": "556cf582",
   "metadata": {},
   "outputs": [],
   "source": [
    "print(\"Starting from here\")\n",
    "number = int(input())\n",
    "for i in range(num):\n",
    "    for j in range(num):\n",
    "        print(\"*\", end =\" \")\n",
    "print()"
   ]
  },
  {
   "cell_type": "code",
   "execution_count": null,
   "id": "666d8cd6",
   "metadata": {},
   "outputs": [],
   "source": [
    "n = int(input())\n",
    "for i in range(n):\n",
    "    for j in range(n):#columns\n",
    "        print(chr(65+i),end=\" \")\n",
    "    print() # after very row I want a new line"
   ]
  },
  {
   "cell_type": "code",
   "execution_count": null,
   "id": "4ec4bce2",
   "metadata": {},
   "outputs": [],
   "source": [
    "if False:                                       #1\n",
    "    print(\"Artificial Intelligence\")\n",
    "elif True:                                      #2\n",
    "    print(\"Machine Learning\")\n",
    "elif True:                                      #3\n",
    "    print(\"Data Science\")\n",
    "else:                                           #4\n",
    "    print(\"Deep Learning\")   "
   ]
  },
  {
   "cell_type": "code",
   "execution_count": null,
   "id": "4d0ad057",
   "metadata": {},
   "outputs": [],
   "source": [
    "a = 1\n",
    "b = 0\n",
    "c = 1\n",
    "if (a and b):\n",
    "    print(\"Scaler is awesome\")\n",
    "elif (a and c):\n",
    "    print(\"ML is fun\")\n",
    "if (a and b and c):\n",
    "    print(\"Python is amazing\")\n",
    "if (a or b or c):\n",
    "    print(\"I love DS\")"
   ]
  },
  {
   "cell_type": "code",
   "execution_count": 1,
   "id": "754c2eec",
   "metadata": {},
   "outputs": [
    {
     "name": "stdout",
     "output_type": "stream",
     "text": [
      "False\n"
     ]
    }
   ],
   "source": [
    "print(False)"
   ]
  },
  {
   "cell_type": "code",
   "execution_count": 2,
   "id": "de5a7d56",
   "metadata": {},
   "outputs": [
    {
     "name": "stdout",
     "output_type": "stream",
     "text": [
      "None\n"
     ]
    }
   ],
   "source": [
    "print(None)"
   ]
  },
  {
   "cell_type": "code",
   "execution_count": 3,
   "id": "3f188849",
   "metadata": {},
   "outputs": [
    {
     "name": "stdout",
     "output_type": "stream",
     "text": [
      "8\n"
     ]
    }
   ],
   "source": [
    "print(5+3)"
   ]
  },
  {
   "cell_type": "code",
   "execution_count": 4,
   "id": "5de7a37b",
   "metadata": {},
   "outputs": [
    {
     "data": {
      "text/plain": [
       "3.0"
      ]
     },
     "execution_count": 4,
     "metadata": {},
     "output_type": "execute_result"
    }
   ],
   "source": [
    "9**0.5\n"
   ]
  },
  {
   "cell_type": "code",
   "execution_count": 5,
   "id": "595fcbdd",
   "metadata": {},
   "outputs": [
    {
     "data": {
      "text/plain": [
       "1000"
      ]
     },
     "execution_count": 5,
     "metadata": {},
     "output_type": "execute_result"
    }
   ],
   "source": [
    "10**3\n"
   ]
  },
  {
   "cell_type": "code",
   "execution_count": 6,
   "id": "e4f3ff17",
   "metadata": {},
   "outputs": [
    {
     "data": {
      "text/plain": [
       "-4"
      ]
     },
     "execution_count": 6,
     "metadata": {},
     "output_type": "execute_result"
    }
   ],
   "source": [
    "-10 // 3"
   ]
  },
  {
   "cell_type": "code",
   "execution_count": 7,
   "id": "bf7f4065",
   "metadata": {},
   "outputs": [
    {
     "data": {
      "text/plain": [
       "1.6666666666666667"
      ]
     },
     "execution_count": 7,
     "metadata": {},
     "output_type": "execute_result"
    }
   ],
   "source": [
    "10/6"
   ]
  },
  {
   "cell_type": "code",
   "execution_count": 1,
   "id": "1c945bd7",
   "metadata": {},
   "outputs": [
    {
     "data": {
      "text/plain": [
       "11.666666619999999"
      ]
     },
     "execution_count": 1,
     "metadata": {},
     "output_type": "execute_result"
    }
   ],
   "source": [
    "1.66666666*7"
   ]
  },
  {
   "cell_type": "code",
   "execution_count": null,
   "id": "23146043",
   "metadata": {},
   "outputs": [],
   "source": [
    "x = int(input(\"Please enter a number -\"))\n",
    "\n",
    "cube = x ** 3\n",
    "\n",
    "print(cube)\n",
    "if cube >50:\n",
    "    print(\"Massive Number\")\n",
    "else:\n",
    "    print(\"Small Number\")\n",
    "print(\"Execution Complete\")"
   ]
  },
  {
   "cell_type": "code",
   "execution_count": 2,
   "id": "70df569e",
   "metadata": {},
   "outputs": [
    {
     "name": "stdout",
     "output_type": "stream",
     "text": [
      "Please enter a number -5\n",
      "125\n",
      "Massive Number\n",
      "Execution Complete\n"
     ]
    }
   ],
   "source": [
    "x = int(input(\"Please enter a number -\"))\n",
    "\n",
    "cube = x ** 3\n",
    "\n",
    "print(cube)\n",
    "if cube >50:\n",
    "    print(\"Massive Number\")\n",
    "else:\n",
    "    print(\"Small Number\")\n",
    "print(\"Execution Complete\")"
   ]
  },
  {
   "cell_type": "code",
   "execution_count": 6,
   "id": "9ef68f7c",
   "metadata": {},
   "outputs": [
    {
     "name": "stdout",
     "output_type": "stream",
     "text": [
      "ergh\n",
      "fgk\n",
      "verification failed\n"
     ]
    }
   ],
   "source": [
    "actualpw = input()\n",
    "currentpw = input()\n",
    "if actualpw == currentpw:\n",
    "    print(\"Successfully verified\")\n",
    "else:\n",
    "    print(\"verification failed\")\n"
   ]
  },
  {
   "cell_type": "code",
   "execution_count": 27,
   "id": "e3705a48",
   "metadata": {},
   "outputs": [
    {
     "name": "stdout",
     "output_type": "stream",
     "text": [
      "13\n",
      "Good Afternoon!\n"
     ]
    }
   ],
   "source": [
    "time =int(input())\n",
    "          \n",
    "\n",
    "if time >= 9 and time < 12:\n",
    "    print(\"Good Morning!\")\n",
    "else:\n",
    "    if time >= 12 and time < 17:\n",
    "        print(\"Good Afternoon!\")       \n",
    "    else:\n",
    "        if time >= 17 and time < 24:\n",
    "            print(\"Good Night!\")\n",
    "        else:\n",
    "            print(\"So jaoo!\")"
   ]
  },
  {
   "cell_type": "code",
   "execution_count": null,
   "id": "eefa347c",
   "metadata": {},
   "outputs": [],
   "source": [
    "time =int(input())\n",
    "          \n",
    "\n",
    "if time >= 9 and time < 12:\n",
    "    print(\"Good Morning!\")\n",
    "else:\n",
    "    if time >= 12 and time < 17:\n",
    "        print(\"Good Afternoon!\")       \n",
    "    else:\n",
    "        if time >= 17 and time < 24:\n",
    "            print(\"Good Night!\")\n",
    "        else:\n",
    "            print(\"So jaoo!\")"
   ]
  },
  {
   "cell_type": "code",
   "execution_count": 31,
   "id": "9da9c36c",
   "metadata": {},
   "outputs": [],
   "source": [
    "if False:\n",
    "    print(\"All good\")"
   ]
  },
  {
   "cell_type": "code",
   "execution_count": 32,
   "id": "a66af649",
   "metadata": {},
   "outputs": [
    {
     "name": "stdout",
     "output_type": "stream",
     "text": [
      "All good\n"
     ]
    }
   ],
   "source": [
    "if True:\n",
    "    print(\"All good\")"
   ]
  },
  {
   "cell_type": "code",
   "execution_count": 34,
   "id": "ee7dfc13",
   "metadata": {},
   "outputs": [
    {
     "name": "stdout",
     "output_type": "stream",
     "text": [
      "Please enter a number-1\n",
      "Negative Number\n"
     ]
    }
   ],
   "source": [
    "num = int(input(\"Please enter a number\"))\n",
    "if num>=0:\n",
    "    print(\"Positive Number\")\n",
    "else:\n",
    "    print(\"Negative Number\")"
   ]
  },
  {
   "cell_type": "code",
   "execution_count": 36,
   "id": "a5b3c10c",
   "metadata": {},
   "outputs": [
    {
     "name": "stdout",
     "output_type": "stream",
     "text": [
      "Python\n",
      "Great Choice\n"
     ]
    }
   ],
   "source": [
    "language = input()\n",
    "\n",
    "if language == \"Python\":\n",
    "    print(\"Great Choice\")\n",
    "else:\n",
    "    print(\"Think Again!\")"
   ]
  },
  {
   "cell_type": "code",
   "execution_count": 42,
   "id": "ec115235",
   "metadata": {},
   "outputs": [
    {
     "name": "stdout",
     "output_type": "stream",
     "text": [
      "PyTHon\n",
      "Great Choice\n"
     ]
    }
   ],
   "source": [
    "language = input()\n",
    "\n",
    "if language.lower() == \"python\":\n",
    "    print(\"Great Choice\")\n",
    "else:\n",
    "    print(\"Think Again!\")"
   ]
  },
  {
   "cell_type": "code",
   "execution_count": 11,
   "id": "1bf7d088",
   "metadata": {},
   "outputs": [
    {
     "name": "stdout",
     "output_type": "stream",
     "text": [
      "Please enter any interger - 30\n",
      "FIZZBUZZ\n"
     ]
    }
   ],
   "source": [
    "num = int(input(\"Please enter any interger - \"))\n",
    "\n",
    "if num%3 == 0 and num%5 ==0:\n",
    "    print(\"FIZZBUZZ\")\n",
    "    \n",
    "elif num%5 == 0:\n",
    "    print(\"BIZZ\")\n",
    "elif num%3 == 0:\n",
    "    print(\"FIZZ\")\n",
    "else:\n",
    "    print(\"\")"
   ]
  },
  {
   "cell_type": "code",
   "execution_count": 21,
   "id": "80c27651",
   "metadata": {},
   "outputs": [
    {
     "name": "stdout",
     "output_type": "stream",
     "text": [
      "7\n",
      "8\n",
      "9\n",
      "10\n"
     ]
    }
   ],
   "source": [
    "num = 0\n",
    "\n",
    "while num<=10:\n",
    "    print(num)\n",
    "    num+=1"
   ]
  },
  {
   "cell_type": "code",
   "execution_count": 14,
   "id": "b10bb9e3",
   "metadata": {},
   "outputs": [
    {
     "name": "stdout",
     "output_type": "stream",
     "text": [
      "1\n",
      "Number Smaller than 1\n"
     ]
    }
   ],
   "source": [
    "num = int(input())\n",
    "i = 1\n",
    "if num>1:\n",
    "    \n",
    "    while i<=num:\n",
    "        print(i, end = \" \")\n",
    "        i+=1\n",
    "\n",
    "else:\n",
    "    print(\"Number Smaller than 1\")\n"
   ]
  },
  {
   "cell_type": "code",
   "execution_count": 7,
   "id": "b8fc29f3",
   "metadata": {},
   "outputs": [
    {
     "name": "stdout",
     "output_type": "stream",
     "text": [
      "3\n",
      "12\n",
      "3 6 9 12 "
     ]
    }
   ],
   "source": [
    "startnum = int(input())\n",
    "endnum = int(input())\n",
    "while startnum <= endnum:\n",
    "    print(startnum, end = \" \")\n",
    "    startnum += 3\n",
    "        "
   ]
  },
  {
   "cell_type": "code",
   "execution_count": 37,
   "id": "5589bf2c",
   "metadata": {},
   "outputs": [
    {
     "name": "stdout",
     "output_type": "stream",
     "text": [
      "javascript\n",
      "I dont know that lanaguage\n"
     ]
    }
   ],
   "source": [
    "\n",
    "language = input()\n",
    "\n",
    "if language==\"Java\":\n",
    "    print(\"Nice choice!\")\n",
    "\n",
    "elif language==\"Python\":\n",
    "    print(\"Nice choice!\")\n",
    "\n",
    "elif language==\"Golang\":\n",
    "    print(\"You're a cool person I see...\")\n",
    "\n",
    "elif language==\"JavaScript\":\n",
    "    print(\"Okay so you are our web developer!\")\n",
    "\n",
    "elif language==\"C++\":\n",
    "    print(\"Too old school...\")\n",
    "\n",
    "else:\n",
    "    print(\"I dont know that lanaguage\")"
   ]
  },
  {
   "cell_type": "code",
   "execution_count": 43,
   "id": "c65e3058",
   "metadata": {},
   "outputs": [
    {
     "name": "stdout",
     "output_type": "stream",
     "text": [
      "2020\n",
      "1\n"
     ]
    }
   ],
   "source": [
    "year = int(input())\n",
    "\n",
    "if year%400 == 0 or (year%4==0 and year%100!=0):\n",
    "    print(\"1\")\n",
    "    \n",
    "else:\n",
    "    print(\"0\")"
   ]
  },
  {
   "cell_type": "code",
   "execution_count": 9,
   "id": "ac7d7015",
   "metadata": {},
   "outputs": [
    {
     "name": "stdout",
     "output_type": "stream",
     "text": [
      "11\n",
      "2 4 6 8 10 "
     ]
    }
   ],
   "source": [
    "num = int(input())\n",
    "i= 1\n",
    "while i<=num:\n",
    "    \n",
    "        if i%2==0:\n",
    "\n",
    "            print(i, end = \" \")\n",
    "        \n",
    "        i+=1"
   ]
  },
  {
   "cell_type": "code",
   "execution_count": 10,
   "id": "b39204d4",
   "metadata": {},
   "outputs": [
    {
     "name": "stdout",
     "output_type": "stream",
     "text": [
      "6\n",
      "1 3 5 "
     ]
    }
   ],
   "source": [
    "num = int(input())\n",
    "i= 1\n",
    "while i<=num:\n",
    "    \n",
    "        if i%2!=0:\n",
    "\n",
    "            print(i, end = \" \")\n",
    "        \n",
    "        i+=1"
   ]
  },
  {
   "cell_type": "code",
   "execution_count": 2,
   "id": "4fca50a5",
   "metadata": {},
   "outputs": [
    {
     "name": "stdout",
     "output_type": "stream",
     "text": [
      "67\n"
     ]
    },
    {
     "ename": "NameError",
     "evalue": "name 'squareroot' is not defined",
     "output_type": "error",
     "traceback": [
      "\u001b[0;31m---------------------------------------------------------------------------\u001b[0m",
      "\u001b[0;31mNameError\u001b[0m                                 Traceback (most recent call last)",
      "Cell \u001b[0;32mIn[2], line 5\u001b[0m\n\u001b[1;32m      1\u001b[0m num \u001b[38;5;241m=\u001b[39m \u001b[38;5;28mint\u001b[39m(\u001b[38;5;28minput\u001b[39m())\n\u001b[1;32m      3\u001b[0m i \u001b[38;5;241m=\u001b[39m \u001b[38;5;241m1\u001b[39m\n\u001b[0;32m----> 5\u001b[0m \u001b[38;5;28;01mwhile\u001b[39;00m i\u001b[38;5;241m<\u001b[39m\u001b[38;5;241m=\u001b[39m\u001b[43msquareroot\u001b[49m:\n\u001b[1;32m      7\u001b[0m     squareroot\u001b[38;5;241m=\u001b[39m i\u001b[38;5;241m*\u001b[39m\u001b[38;5;241m*\u001b[39m\u001b[38;5;241m0.5\u001b[39m\n\u001b[1;32m      9\u001b[0m     \u001b[38;5;28mprint\u001b[39m(squareroot)\n",
      "\u001b[0;31mNameError\u001b[0m: name 'squareroot' is not defined"
     ]
    }
   ],
   "source": [
    "num = int(input())\n",
    "\n",
    "i = 1\n",
    "\n",
    "while i<=squareroot:\n",
    "    \n",
    "    squareroot= i**0.5\n",
    "\n",
    "    print(squareroot)\n",
    "    \n",
    "    \n",
    "i+=1\n",
    "    \n",
    "    "
   ]
  },
  {
   "cell_type": "code",
   "execution_count": 5,
   "id": "51cb7951",
   "metadata": {},
   "outputs": [
    {
     "name": "stdout",
     "output_type": "stream",
     "text": [
      "2\n",
      "3\n",
      "4\n",
      "5\n",
      "6\n",
      "7\n",
      "8\n",
      "9\n",
      "10\n"
     ]
    }
   ],
   "source": [
    "for i in range(2,11):\n",
    "    print(i)"
   ]
  },
  {
   "cell_type": "code",
   "execution_count": 6,
   "id": "4d500808",
   "metadata": {},
   "outputs": [
    {
     "name": "stdout",
     "output_type": "stream",
     "text": [
      "10\n",
      "1\n",
      "2\n",
      "3\n",
      "4\n",
      "5\n",
      "6\n",
      "7\n",
      "8\n",
      "9\n"
     ]
    }
   ],
   "source": [
    "num = int(input())\n",
    "\n",
    "for i in range(1,num):\n",
    "    print(i)"
   ]
  },
  {
   "cell_type": "code",
   "execution_count": 8,
   "id": "054c5c4b",
   "metadata": {},
   "outputs": [
    {
     "name": "stdout",
     "output_type": "stream",
     "text": [
      "4\n",
      "1 2 3 4 "
     ]
    }
   ],
   "source": [
    "num = int(input())\n",
    "\n",
    "for i in range(1,num+1):\n",
    "    print(i, end = \" \")"
   ]
  },
  {
   "cell_type": "code",
   "execution_count": 15,
   "id": "862d774a",
   "metadata": {},
   "outputs": [
    {
     "name": "stdout",
     "output_type": "stream",
     "text": [
      "10\n",
      "55 "
     ]
    }
   ],
   "source": [
    "num = int(input())\n",
    "sum = 0\n",
    "for i in range(1,num+1,1):\n",
    "    sum= sum+i\n",
    "print(sum, end = \" \")\n",
    "    \n",
    "# Sum of n numbers    "
   ]
  },
  {
   "cell_type": "code",
   "execution_count": 19,
   "id": "8cbafb36",
   "metadata": {},
   "outputs": [
    {
     "name": "stdout",
     "output_type": "stream",
     "text": [
      "6\n",
      "720 "
     ]
    }
   ],
   "source": [
    "# Product of all numbers / factorial of the number\n",
    "\n",
    "num = int(input())\n",
    "factorial = 1\n",
    "for i in range(1,num+1,1):\n",
    "    factorial= factorial*i\n",
    "print(factorial, end = \" \")\n",
    "    "
   ]
  },
  {
   "cell_type": "code",
   "execution_count": 3,
   "id": "cd8ed492",
   "metadata": {},
   "outputs": [
    {
     "name": "stdout",
     "output_type": "stream",
     "text": [
      "5\n",
      "5\n",
      "4\n",
      "3\n",
      "2\n",
      "1\n"
     ]
    }
   ],
   "source": [
    "n= int(input())\n",
    "for i in range(n,0,-1):\n",
    "    print(i)"
   ]
  },
  {
   "cell_type": "code",
   "execution_count": 4,
   "id": "fded3375",
   "metadata": {},
   "outputs": [
    {
     "name": "stdout",
     "output_type": "stream",
     "text": [
      "6\n",
      "6 5 4 3 2 1 "
     ]
    }
   ],
   "source": [
    "# print all the numbers from n to 1 in reverse order without a negative jump\n",
    "\n",
    "n = int(input())\n",
    "\n",
    "for i in range(n):\n",
    "    print(n-i, end=\" \")"
   ]
  },
  {
   "cell_type": "code",
   "execution_count": 7,
   "id": "b9f11d9c",
   "metadata": {},
   "outputs": [
    {
     "name": "stdout",
     "output_type": "stream",
     "text": [
      "7\n",
      "7 6 5 4 3 2 1 "
     ]
    }
   ],
   "source": [
    "n = int(input())\n",
    "\n",
    "for i in range(-n,0):\n",
    "    print(-i, end=\" \")"
   ]
  },
  {
   "cell_type": "code",
   "execution_count": 11,
   "id": "8507d5f3",
   "metadata": {},
   "outputs": [
    {
     "ename": "SyntaxError",
     "evalue": "invalid syntax. Perhaps you forgot a comma? (1074152299.py, line 2)",
     "output_type": "error",
     "traceback": [
      "\u001b[0;36m  Cell \u001b[0;32mIn[11], line 2\u001b[0;36m\u001b[0m\n\u001b[0;31m    print(\"Hello\" name)\u001b[0m\n\u001b[0m          ^\u001b[0m\n\u001b[0;31mSyntaxError\u001b[0m\u001b[0;31m:\u001b[0m invalid syntax. Perhaps you forgot a comma?\n"
     ]
    }
   ],
   "source": [
    " \n",
    " def printingname(name):\n",
    "    print(\"Hello\" name)\n",
    "    \n",
    "    "
   ]
  },
  {
   "cell_type": "code",
   "execution_count": 16,
   "id": "8203fd52",
   "metadata": {},
   "outputs": [
    {
     "name": "stdout",
     "output_type": "stream",
     "text": [
      "Ankita\n",
      "Hello Ankita\n"
     ]
    }
   ],
   "source": [
    "name = input()\n",
    "def greet(name):\n",
    "    print(\"Hello\",name)\n",
    "greet(name)\n"
   ]
  },
  {
   "cell_type": "code",
   "execution_count": null,
   "id": "03795f14",
   "metadata": {},
   "outputs": [],
   "source": [
    "num = int(input())\n",
    "'''\n",
    "This is square of number\n",
    "'''\n",
    "def squar(num):\n",
    "    print(num**2)\n",
    "squar(num)"
   ]
  },
  {
   "cell_type": "code",
   "execution_count": 4,
   "id": "280c642b",
   "metadata": {},
   "outputs": [
    {
     "name": "stdout",
     "output_type": "stream",
     "text": [
      "None\n"
     ]
    }
   ],
   "source": [
    "def factorial(n):\n",
    "    result = 1\n",
    "    while n > 0:\n",
    "        result *= n\n",
    "        n -= 1\n",
    "print(factorial(5))        "
   ]
  },
  {
   "cell_type": "code",
   "execution_count": 3,
   "id": "017a2801",
   "metadata": {},
   "outputs": [
    {
     "ename": "AssertionError",
     "evalue": "",
     "output_type": "error",
     "traceback": [
      "\u001b[0;31m---------------------------------------------------------------------------\u001b[0m",
      "\u001b[0;31mAssertionError\u001b[0m                            Traceback (most recent call last)",
      "Cell \u001b[0;32mIn[3], line 2\u001b[0m\n\u001b[1;32m      1\u001b[0m name \u001b[38;5;241m=\u001b[39m \u001b[38;5;124m'\u001b[39m\u001b[38;5;124mAnkita\u001b[39m\u001b[38;5;124m'\u001b[39m\n\u001b[0;32m----> 2\u001b[0m \u001b[38;5;28;01massert\u001b[39;00m name \u001b[38;5;241m==\u001b[39m \u001b[38;5;124m\"\u001b[39m\u001b[38;5;124mPooja\u001b[39m\u001b[38;5;124m\"\u001b[39m\n",
      "\u001b[0;31mAssertionError\u001b[0m: "
     ]
    }
   ],
   "source": [
    "name = 'Ankita'\n",
    "assert name == \"Pooja\""
   ]
  },
  {
   "cell_type": "code",
   "execution_count": null,
   "id": "cc4efb5c",
   "metadata": {},
   "outputs": [],
   "source": []
  }
 ],
 "metadata": {
  "kernelspec": {
   "display_name": "Python 3 (ipykernel)",
   "language": "python",
   "name": "python3"
  },
  "language_info": {
   "codemirror_mode": {
    "name": "ipython",
    "version": 3
   },
   "file_extension": ".py",
   "mimetype": "text/x-python",
   "name": "python",
   "nbconvert_exporter": "python",
   "pygments_lexer": "ipython3",
   "version": "3.11.3"
  }
 },
 "nbformat": 4,
 "nbformat_minor": 5
}
